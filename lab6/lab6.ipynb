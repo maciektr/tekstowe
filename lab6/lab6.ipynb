{
 "cells": [
  {
   "cell_type": "markdown",
   "metadata": {},
   "source": [
    "# Laboratorium 6"
   ]
  },
  {
   "cell_type": "markdown",
   "metadata": {},
   "source": [
    "## Import potrzebnych funkcji"
   ]
  },
  {
   "cell_type": "markdown",
   "metadata": {},
   "source": [
    "Moduły biblioteczne. "
   ]
  },
  {
   "cell_type": "code",
   "execution_count": 1,
   "metadata": {},
   "outputs": [],
   "source": [
    "from matplotlib import pyplot as plt\n",
    "from objsize import get_deep_size\n",
    "import numpy as np\n",
    "import importlib\n",
    "import math\n",
    "import sys\n",
    "import os"
   ]
  },
  {
   "cell_type": "markdown",
   "metadata": {},
   "source": [
    "Budowa słownika podstawowych składowych, wraz z opartym o niego wyszukiwaniem wzorca."
   ]
  },
  {
   "cell_type": "code",
   "execution_count": 2,
   "metadata": {},
   "outputs": [],
   "source": [
    "import kmr\n",
    "importlib.reload(kmr)\n",
    "from kmr import Kmr"
   ]
  },
  {
   "cell_type": "markdown",
   "metadata": {},
   "source": [
    "Algorytmy z którymi będę porównywał wydajność swojego rozwiązania. "
   ]
  },
  {
   "cell_type": "code",
   "execution_count": 3,
   "metadata": {},
   "outputs": [],
   "source": [
    "from suffix_tree import SuffixTree\n",
    "import kmp\n",
    "importlib.reload(kmp)\n",
    "from kmp import kmp"
   ]
  },
  {
   "cell_type": "markdown",
   "metadata": {},
   "source": [
    "## Budowa słownika podstawowych składowych"
   ]
  },
  {
   "cell_type": "code",
   "execution_count": 4,
   "metadata": {},
   "outputs": [],
   "source": [
    "text = 'abbabbaba'"
   ]
  },
  {
   "cell_type": "code",
   "execution_count": 5,
   "metadata": {},
   "outputs": [],
   "source": [
    "kmr = Kmr()\n",
    "names, entries = kmr.kmr(text)"
   ]
  },
  {
   "cell_type": "code",
   "execution_count": 6,
   "metadata": {},
   "outputs": [
    {
     "name": "stdout",
     "output_type": "stream",
     "text": [
      "{1: [0, 1, 1, 0, 1, 1, 0, 1, 0, 2, 2, 2, 2, 2, 2, 2, 2, 2, 2, 2, 2, 2, 2, 2], 2: [0, 3, 2, 0, 3, 2, 0, 2, 1, 4, 4, 4, 4, 4, 4, 4, 4, 4, 4, 4, 4, 4, 4], 4: [1, 6, 4, 1, 6, 3, 0, 5, 2, 7, 7, 7, 7, 7, 7, 7, 7, 7, 7, 7, 7]}\n"
     ]
    }
   ],
   "source": [
    "print(names)"
   ]
  },
  {
   "cell_type": "code",
   "execution_count": 7,
   "metadata": {},
   "outputs": [
    {
     "name": "stdout",
     "output_type": "stream",
     "text": [
      "{1: {0: 0, 1: 1, 2: 9}, 2: {0: 0, 1: 8, 2: 2, 3: 1, 4: 9}, 4: {0: 6, 1: 0, 2: 8, 3: 5, 4: 2, 5: 7, 6: 1, 7: 9}}\n"
     ]
    }
   ],
   "source": [
    "print(entries)"
   ]
  },
  {
   "cell_type": "code",
   "execution_count": 8,
   "metadata": {},
   "outputs": [
    {
     "name": "stdout",
     "output_type": "stream",
     "text": [
      "names:\n",
      "1 [0, 1, 1, 0, 1, 1, 0, 1, 0]\n",
      "2 [0, 3, 2, 0, 3, 2, 0, 2, 1]\n",
      "4 [1, 6, 4, 1, 6, 3, 0, 5, 2]\n",
      "\n",
      "positions:\n",
      "1 [1, 2]\n",
      "2 [1, 9, 3, 2]\n",
      "4 [7, 1, 9, 6, 3, 8, 2]\n"
     ]
    }
   ],
   "source": [
    "print('names:')\n",
    "for k,v in names.items():\n",
    "    print(k, [e for e in v[:len(text)]])\n",
    "\n",
    "print('\\npositions:')\n",
    "for k,v in entries.items():\n",
    "    print(k, [v[e]+1 for e in range(len(v)-1)])"
   ]
  },
  {
   "cell_type": "markdown",
   "metadata": {},
   "source": [
    "## Wyszukiwanie wzorca w oparciu o słownik podstawowych składowych"
   ]
  },
  {
   "cell_type": "code",
   "execution_count": 9,
   "metadata": {},
   "outputs": [
    {
     "data": {
      "text/plain": [
       "[0, 3]"
      ]
     },
     "execution_count": 9,
     "metadata": {},
     "output_type": "execute_result"
    }
   ],
   "source": [
    "kmr.search('da','da')"
   ]
  },
  {
   "cell_type": "markdown",
   "metadata": {},
   "source": [
    "## Funkcje pomocnicze"
   ]
  },
  {
   "cell_type": "code",
   "execution_count": 10,
   "metadata": {},
   "outputs": [],
   "source": [
    "def read_file(file_path):\n",
    "    with open(file_path, 'r') as file:\n",
    "        return ''.join(file.readlines())"
   ]
  },
  {
   "cell_type": "markdown",
   "metadata": {},
   "source": [
    "## Porównanie czasu budowy słownika "
   ]
  },
  {
   "cell_type": "markdown",
   "metadata": {},
   "source": [
    "### Pierwszy plik testowy"
   ]
  },
  {
   "cell_type": "code",
   "execution_count": 11,
   "metadata": {},
   "outputs": [],
   "source": [
    "file_path = '1997_714.txt'\n",
    "file_text = read_file(file_path)"
   ]
  },
  {
   "cell_type": "code",
   "execution_count": 12,
   "metadata": {},
   "outputs": [
    {
     "data": {
      "text/plain": [
       "246472"
      ]
     },
     "execution_count": 12,
     "metadata": {},
     "output_type": "execute_result"
    }
   ],
   "source": [
    "len(file_text)"
   ]
  },
  {
   "cell_type": "code",
   "execution_count": 13,
   "metadata": {},
   "outputs": [
    {
     "data": {
      "text/plain": [
       "'\\n\\n\\n\\nDz.U. z 1998 r. Nr 144, poz. 930\\n                                       \\n                                       \\n                                       \\n                                       \\n                                    USTAWA\\n                          z dnia 20 listopada 1998 r.\\n                                       \\n         o zryczałtowanym podatku dochodowym od niektórych przychodów\\n                        osiąganych przez osoby fizyczne\\n                                       \\n                                  Rozdział 1\\n                                Przepisy ogólne\\n                                       \\n                                    Art. 1.\\nUstawa reguluje opodatkowanie zryczałtowanym podatkiem dochodowym niektórych\\nprzychodów (dochodów) osiąganych przez osoby fizyczne prowadzące pozarolniczą\\ndziałalność gospodarczą oraz przez osoby duchowne.\\n                                       \\n                                    Art. 2.\\n1. Osoby fizyczne osiągające przychody z pozarolniczej działalności\\n  gospodarczej opłacają zryczałtowany podatek dochodowy w formie:\\n   1) ryczałtu od przychodów ewidencjonowanych,\\n   2) karty podatkowej.\\n2. Osoby duchowne, prawnie uznanych wyznań, opłacają zryczałtowany podatek\\n  dochodowy od przychodów osób duchownych.\\n3. Wpływy z podatku dochodowego opłacanego w formie ryczałtu od przychodów\\n  ewidencjonowanych oraz zryczałtowanego podatku dochodowego od przychodów\\n  osób duchownych stanowią dochód budżetu państwa.\\n4. Wpływy z karty podatkowej stanowią dochody gmin.\\n                                       \\n                                    Art. 3.\\nPrzychodów (dochodów) opodatkowanych w formach zryczałtowanych nie łączy się z\\nprzychodami (dochodami) z innych źródeł podlegającymi opodatkowaniu na\\npodstawie ustawy z dnia 26 lipca 1991 r. o podatku dochodowym od osób\\nfizycznych (Dz. U. z 1993 r. Nr 90, poz. 416 i Nr 134, poz. 646, z 1994 r. Nr\\n43, poz. 163, Nr 90, poz. 419, Nr 113, poz. 547, Nr 123, poz. 602 i Nr 126'"
      ]
     },
     "execution_count": 13,
     "metadata": {},
     "output_type": "execute_result"
    }
   ],
   "source": [
    "file_text[:2000]"
   ]
  },
  {
   "cell_type": "code",
   "execution_count": 14,
   "metadata": {
    "scrolled": true
   },
   "outputs": [
    {
     "name": "stdout",
     "output_type": "stream",
     "text": [
      "21.4 s ± 0 ns per loop (mean ± std. dev. of 1 run, 1 loop each)\n"
     ]
    },
    {
     "data": {
      "text/plain": [
       "<TimeitResult : 21.4 s ± 0 ns per loop (mean ± std. dev. of 1 run, 1 loop each)>"
      ]
     },
     "execution_count": 14,
     "metadata": {},
     "output_type": "execute_result"
    }
   ],
   "source": [
    "%%timeit -n 1 -r 1 -o\n",
    "kmr = Kmr()\n",
    "kmr.kmr(file_text)"
   ]
  },
  {
   "cell_type": "code",
   "execution_count": 15,
   "metadata": {},
   "outputs": [],
   "source": [
    "res = _\n",
    "kmr1_time = res.best"
   ]
  },
  {
   "cell_type": "code",
   "execution_count": 16,
   "metadata": {},
   "outputs": [
    {
     "name": "stdout",
     "output_type": "stream",
     "text": [
      "1.76 s ± 0 ns per loop (mean ± std. dev. of 1 run, 1 loop each)\n"
     ]
    },
    {
     "data": {
      "text/plain": [
       "<TimeitResult : 1.76 s ± 0 ns per loop (mean ± std. dev. of 1 run, 1 loop each)>"
      ]
     },
     "execution_count": 16,
     "metadata": {},
     "output_type": "execute_result"
    }
   ],
   "source": [
    "%%timeit -n 1 -r 1 -o\n",
    "tree = SuffixTree(file_text)"
   ]
  },
  {
   "cell_type": "code",
   "execution_count": 17,
   "metadata": {},
   "outputs": [],
   "source": [
    "res = _\n",
    "suffix1_time = res.best"
   ]
  },
  {
   "cell_type": "markdown",
   "metadata": {},
   "source": [
    "### Drugi plik testowy"
   ]
  },
  {
   "cell_type": "code",
   "execution_count": 18,
   "metadata": {},
   "outputs": [],
   "source": [
    "file_path = 'romeo-i-julia-700.txt'\n",
    "file_text = read_file(file_path)"
   ]
  },
  {
   "cell_type": "code",
   "execution_count": 19,
   "metadata": {},
   "outputs": [
    {
     "data": {
      "text/plain": [
       "12650"
      ]
     },
     "execution_count": 19,
     "metadata": {},
     "output_type": "execute_result"
    }
   ],
   "source": [
    "len(file_text)"
   ]
  },
  {
   "cell_type": "code",
   "execution_count": 20,
   "metadata": {},
   "outputs": [
    {
     "data": {
      "text/plain": [
       "'William Shakespeare\\n\\nRomeo i Julia\\ntłum. Józef Paszkowski\\n\\nISBN 978-83-288-2903-9\\n\\n\\n\\nOSOBY:\\n * ESKALUS — książę panujący w Weronie\\n * PARYS — młody Weroneńczyk szlachetnego rodu, krewny księcia\\n * MONTEKI, KAPULET — naczelnicy dwóch domów nieprzyjaznych sobie\\n * STARZEC — stryjeczny brat Kapuleta\\n * ROMEO — syn Montekiego\\n * MERKUCJO — krewny księcia\\n * BENWOLIO — synowiec Montekiego\\n * TYBALT — krewny Pani Kapulet\\n * LAURENTY — ojciec franciszkanin\\n * JAN — brat z tegoż zgromadzenia\\n * BALTAZAR — służący Romea\\n * SAMSON, GRZEGORZ — słudzy Kapuleta\\n * ABRAHAM — służący Montekiego\\n * APTEKARZ\\n * TRZECH MUZYKANTÓW\\n * PAŹ PARYSA\\n * PIOTR\\n * DOWÓDCA WARTY\\n * PANI MONTEKI — małżonka Montekiego\\n * PANI KAPULET — małżonka Kapuleta\\n * JULIA — córka Kapuletów\\n * MARTA — mamka Julii\\n * Obywatele weroneńscy, różne osoby płci obojej, liczący się do przyjaciół obu domów, maski, straż wojskowa i inne osoby.\\n\\n\\n\\n\\nRzecz odbywa się przez większą część sztuki w Weronie, przez część piątego aktu w Mantui.\\n\\n\\n\\nPROLOG\\n\\nPrzełożył Jan Kasprowicz\\n\\nDwa rody, zacne jednako i sławne —\\nTam, gdzie się rzecz ta rozgrywa, w Weronie,\\nDo nowej zbrodni pchają złości dawne,\\nPlamiąc szlachetną krwią szlachetne dłonie\\n\\nZ łon tych dwu wrogów wzięło bowiem życie,\\nPod najstraszliwszą z gwiazd, kochanków dwoje;\\nPo pełnym przygód nieszczęśliwych bycie\\nŚmierć ich stłumiła rodzicielskie boje.\\n\\nTej ich miłości przebieg zbyt bolesny\\nI jak się ojców nienawiść nie zmienia,\\nAż ją zakończy dzieci zgon przedwczesny,\\nDwugodzinnego treścią przedstawienia,\\n\\nKtóre otoczcie cierpliwymi względy,\\nJest w nim co złego, my usuniem błędy…\\n\\n\\n\\n\\nAKT PIERWSZY\\n\\n\\n\\nSCENA PIERWSZA\\n\\n/ Plac publiczny. Wchodzą Samson i Grzegorz uzbrojeni w tarcze i miecze. /\\n\\n\\nSAMSON\\n\\nDalipan, Grzegorzu, nie będziem darli pierza.\\n\\n\\nGRZEGORZ\\n\\nMa się rozumieć, bobyśmy byli zdziercami.\\n\\n\\nSAMSON\\n\\nAle będziemy darli koty, jak z nami zadrą.\\n\\n\\nGRZEGORZ\\n\\nKto zechce zadrzeć z nami, będzie musiał zadrżeć.\\n\\n\\nSAMSON\\n\\nMam zwyczaj drapać zaraz, jak mię kto rozrucha.\\n\\n\\nG'"
      ]
     },
     "execution_count": 20,
     "metadata": {},
     "output_type": "execute_result"
    }
   ],
   "source": [
    "file_text[:2000]"
   ]
  },
  {
   "cell_type": "code",
   "execution_count": 21,
   "metadata": {
    "scrolled": true
   },
   "outputs": [
    {
     "name": "stdout",
     "output_type": "stream",
     "text": [
      "393 ms ± 0 ns per loop (mean ± std. dev. of 1 run, 1 loop each)\n"
     ]
    },
    {
     "data": {
      "text/plain": [
       "<TimeitResult : 393 ms ± 0 ns per loop (mean ± std. dev. of 1 run, 1 loop each)>"
      ]
     },
     "execution_count": 21,
     "metadata": {},
     "output_type": "execute_result"
    }
   ],
   "source": [
    "%%timeit -n 1 -r 1 -o\n",
    "kmr = Kmr()\n",
    "kmr.kmr(file_text)"
   ]
  },
  {
   "cell_type": "code",
   "execution_count": 22,
   "metadata": {},
   "outputs": [],
   "source": [
    "res = _\n",
    "kmr2_time = res.best"
   ]
  },
  {
   "cell_type": "code",
   "execution_count": 23,
   "metadata": {},
   "outputs": [
    {
     "name": "stdout",
     "output_type": "stream",
     "text": [
      "96.6 ms ± 0 ns per loop (mean ± std. dev. of 1 run, 1 loop each)\n"
     ]
    },
    {
     "data": {
      "text/plain": [
       "<TimeitResult : 96.6 ms ± 0 ns per loop (mean ± std. dev. of 1 run, 1 loop each)>"
      ]
     },
     "execution_count": 23,
     "metadata": {},
     "output_type": "execute_result"
    }
   ],
   "source": [
    "%%timeit -n 1 -r 1 -o\n",
    "tree = SuffixTree(file_text)"
   ]
  },
  {
   "cell_type": "code",
   "execution_count": 24,
   "metadata": {},
   "outputs": [],
   "source": [
    "res = _\n",
    "suffix2_time = res.best"
   ]
  },
  {
   "cell_type": "markdown",
   "metadata": {},
   "source": [
    "### Trzeci plik testowy"
   ]
  },
  {
   "cell_type": "code",
   "execution_count": 25,
   "metadata": {},
   "outputs": [],
   "source": [
    "file_path = 'zad6'\n",
    "file_text = read_file(file_path)"
   ]
  },
  {
   "cell_type": "code",
   "execution_count": 26,
   "metadata": {},
   "outputs": [
    {
     "data": {
      "text/plain": [
       "905"
      ]
     },
     "execution_count": 26,
     "metadata": {},
     "output_type": "execute_result"
    }
   ],
   "source": [
    "len(file_text)"
   ]
  },
  {
   "cell_type": "code",
   "execution_count": 27,
   "metadata": {},
   "outputs": [
    {
     "data": {
      "text/plain": [
       "'1. Zaimplementować budowę słownika podstawowych składowych.\\n2. Zaimplementować wyszukiwanie wzorca korzystając z DBF. Wyszukiwanie ma działać dla każdej długości wzorca nie większej od długości całego tekstu. Czy konieczne jest budowanie nowego DBF dla pat&text?\\n3. Sprawdzić rzeczywisty czas budowy DBF dla załączonych plików. Porównać z czasem budowy drzewa sufiksów.*\\n4. Zbadać rzeczywisty rozmiar DBF, porównać z wielkością pliku.\\n5. Porównać czas wyszukiwania wzorca przy użyciu DBF z wyszukiwaniem za pomocą KMP dla różnych długości wzorca.**\\n\\n* Osoby, które nie zaimplementowały drzewa sufiksów w poprzednich zadaniach mogą skorzystać np. z tej implementacji (w Pythonie): https://github.com/kvh/Python-Suffix-Tree\\n** j.w. dla algorytmu KMP: https://www.geeksforgeeks.org/kmp-algorithm-for-pattern-searching/\\n\\nRozwiązanie powinno zawierać kod oraz sprawozdanie w formacie PDF lub Jupyter Notebook.\\n'"
      ]
     },
     "execution_count": 27,
     "metadata": {},
     "output_type": "execute_result"
    }
   ],
   "source": [
    "file_text"
   ]
  },
  {
   "cell_type": "code",
   "execution_count": 28,
   "metadata": {
    "scrolled": true
   },
   "outputs": [
    {
     "name": "stdout",
     "output_type": "stream",
     "text": [
      "23.3 ms ± 0 ns per loop (mean ± std. dev. of 1 run, 1 loop each)\n"
     ]
    },
    {
     "data": {
      "text/plain": [
       "<TimeitResult : 23.3 ms ± 0 ns per loop (mean ± std. dev. of 1 run, 1 loop each)>"
      ]
     },
     "execution_count": 28,
     "metadata": {},
     "output_type": "execute_result"
    }
   ],
   "source": [
    "%%timeit -n 1 -r 1 -o\n",
    "kmr = Kmr()\n",
    "kmr.kmr(file_text)"
   ]
  },
  {
   "cell_type": "code",
   "execution_count": 29,
   "metadata": {},
   "outputs": [],
   "source": [
    "res = _\n",
    "kmr3_time = res.best"
   ]
  },
  {
   "cell_type": "code",
   "execution_count": 30,
   "metadata": {
    "scrolled": true
   },
   "outputs": [
    {
     "name": "stdout",
     "output_type": "stream",
     "text": [
      "11.2 ms ± 0 ns per loop (mean ± std. dev. of 1 run, 1 loop each)\n"
     ]
    },
    {
     "data": {
      "text/plain": [
       "<TimeitResult : 11.2 ms ± 0 ns per loop (mean ± std. dev. of 1 run, 1 loop each)>"
      ]
     },
     "execution_count": 30,
     "metadata": {},
     "output_type": "execute_result"
    }
   ],
   "source": [
    "%%timeit -n 1 -r 1 -o\n",
    "tree = SuffixTree(file_text)"
   ]
  },
  {
   "cell_type": "code",
   "execution_count": 31,
   "metadata": {},
   "outputs": [],
   "source": [
    "res = _\n",
    "suffix3_time = res.best"
   ]
  },
  {
   "cell_type": "markdown",
   "metadata": {},
   "source": [
    "### Podsumowanie porównania czasów"
   ]
  },
  {
   "cell_type": "code",
   "execution_count": 32,
   "metadata": {
    "scrolled": true
   },
   "outputs": [
    {
     "data": {
      "image/png": "[encoded data removed]",
      "text/plain": [
       "<Figure size 432x288 with 1 Axes>"
      ]
     },
     "metadata": {
      "needs_background": "light"
     },
     "output_type": "display_data"
    }
   ],
   "source": [
    "x = [suffix1_time, suffix2_time, suffix3_time]\n",
    "y = [kmr1_time, kmr2_time, kmr3_time]\n",
    "\n",
    "fig = plt.figure()\n",
    "ax = fig.add_subplot()\n",
    "ax.plot(x,y, marker='o')\n",
    "\n",
    "ax.set_xlabel('Czas budowy drzewa sufiksów')\n",
    "ax.set_ylabel('Czas budowy słownika DBF')\n",
    "\n",
    "plt.show()"
   ]
  },
  {
   "cell_type": "markdown",
   "metadata": {},
   "source": [
    "Możemy stwierdzić, że otrzymana zależność nie jest liniowa."
   ]
  },
  {
   "cell_type": "markdown",
   "metadata": {},
   "source": [
    "## Porównanie rozmiaru słownika względem plików źródłowych"
   ]
  },
  {
   "cell_type": "markdown",
   "metadata": {},
   "source": [
    "### Pierwszy plik testowy"
   ]
  },
  {
   "cell_type": "code",
   "execution_count": 33,
   "metadata": {},
   "outputs": [],
   "source": [
    "file_path = '1997_714.txt'\n",
    "file_text = read_file(file_path)\n",
    "dbf = Kmr().kmr(file_text)"
   ]
  },
  {
   "cell_type": "markdown",
   "metadata": {},
   "source": [
    "Rozmiar pliku:"
   ]
  },
  {
   "cell_type": "code",
   "execution_count": 34,
   "metadata": {},
   "outputs": [
    {
     "name": "stdout",
     "output_type": "stream",
     "text": [
      "254133\n"
     ]
    }
   ],
   "source": [
    "file1_size = os.path.getsize(file_path)\n",
    "print(file1_size)"
   ]
  },
  {
   "cell_type": "markdown",
   "metadata": {},
   "source": [
    "Rozmiar słownika:"
   ]
  },
  {
   "cell_type": "code",
   "execution_count": 35,
   "metadata": {},
   "outputs": [
    {
     "name": "stdout",
     "output_type": "stream",
     "text": [
      "377392132\n"
     ]
    }
   ],
   "source": [
    "dbf1_size = get_deep_size(dbf)\n",
    "print(dbf1_size)"
   ]
  },
  {
   "cell_type": "markdown",
   "metadata": {},
   "source": [
    "### Drugi plik testowy"
   ]
  },
  {
   "cell_type": "code",
   "execution_count": 36,
   "metadata": {},
   "outputs": [],
   "source": [
    "file_path = 'romeo-i-julia-700.txt'\n",
    "file_text = read_file(file_path)\n",
    "dbf = Kmr().kmr(file_text)"
   ]
  },
  {
   "cell_type": "markdown",
   "metadata": {},
   "source": [
    "Rozmiar pliku:"
   ]
  },
  {
   "cell_type": "code",
   "execution_count": 37,
   "metadata": {},
   "outputs": [
    {
     "name": "stdout",
     "output_type": "stream",
     "text": [
      "14208\n"
     ]
    }
   ],
   "source": [
    "file2_size = os.path.getsize(file_path)\n",
    "print(file2_size)"
   ]
  },
  {
   "cell_type": "markdown",
   "metadata": {},
   "source": [
    "Rozmiar słownika:"
   ]
  },
  {
   "cell_type": "code",
   "execution_count": 38,
   "metadata": {},
   "outputs": [
    {
     "name": "stdout",
     "output_type": "stream",
     "text": [
      "16434964\n"
     ]
    }
   ],
   "source": [
    "dbf2_size = get_deep_size(dbf)\n",
    "print(dbf2_size)"
   ]
  },
  {
   "cell_type": "markdown",
   "metadata": {},
   "source": [
    "### Trzeci plik testowy"
   ]
  },
  {
   "cell_type": "code",
   "execution_count": 39,
   "metadata": {},
   "outputs": [],
   "source": [
    "file_path = 'zad6'\n",
    "file_text = read_file(file_path)\n",
    "dbf = Kmr().kmr(file_text)"
   ]
  },
  {
   "cell_type": "markdown",
   "metadata": {},
   "source": [
    "Rozmiar pliku:"
   ]
  },
  {
   "cell_type": "code",
   "execution_count": 40,
   "metadata": {},
   "outputs": [
    {
     "name": "stdout",
     "output_type": "stream",
     "text": [
      "947\n"
     ]
    }
   ],
   "source": [
    "file3_size = os.path.getsize(file_path)\n",
    "print(file3_size)"
   ]
  },
  {
   "cell_type": "markdown",
   "metadata": {},
   "source": [
    "Rozmiar słownika:"
   ]
  },
  {
   "cell_type": "code",
   "execution_count": 41,
   "metadata": {},
   "outputs": [
    {
     "name": "stdout",
     "output_type": "stream",
     "text": [
      "672208\n"
     ]
    }
   ],
   "source": [
    "dbf3_size = get_deep_size(dbf)\n",
    "print(dbf3_size)"
   ]
  },
  {
   "cell_type": "markdown",
   "metadata": {},
   "source": [
    "### Podsumowanie porównania rozmiarów"
   ]
  },
  {
   "cell_type": "code",
   "execution_count": 42,
   "metadata": {
    "scrolled": true
   },
   "outputs": [
    {
     "data": {
      "image/png": "[encoded data removed]",
      "text/plain": [
       "<Figure size 432x288 with 1 Axes>"
      ]
     },
     "metadata": {
      "needs_background": "light"
     },
     "output_type": "display_data"
    }
   ],
   "source": [
    "x = [file1_size, file2_size, file3_size]\n",
    "y = [dbf1_size, dbf2_size, dbf3_size]\n",
    "\n",
    "fig = plt.figure()\n",
    "ax = fig.add_subplot()\n",
    "ax.plot(x,y, marker='o')\n",
    "\n",
    "ax.set_xlabel('Size of file')\n",
    "ax.set_ylabel('Size of DBF')\n",
    "\n",
    "plt.show()"
   ]
  },
  {
   "cell_type": "markdown",
   "metadata": {},
   "source": [
    "Możemy stwierdzić, że otrzymana zależnośc jest liniowa."
   ]
  },
  {
   "cell_type": "markdown",
   "metadata": {},
   "source": [
    "## Porównanie czasów wyszukiwanie wzorca"
   ]
  },
  {
   "cell_type": "markdown",
   "metadata": {},
   "source": [
    "### Pierwszy plik testowy"
   ]
  },
  {
   "cell_type": "code",
   "execution_count": 43,
   "metadata": {},
   "outputs": [],
   "source": [
    "file_path = '1997_714.txt'\n",
    "file_text = read_file(file_path)\n",
    "pattern = 'zasada'"
   ]
  },
  {
   "cell_type": "code",
   "execution_count": 44,
   "metadata": {},
   "outputs": [
    {
     "name": "stdout",
     "output_type": "stream",
     "text": [
      "25 [4952, 5283, 5530, 10068, 11226, 12632, 13704, 14056, 14374, 15749, 38033, 38153, 41796, 44224, 57397, 59849, 60022, 68573, 68699, 70233, 70769, 77760, 77823, 78306, 78371]\n",
      "2.78 s ± 0 ns per loop (mean ± std. dev. of 1 run, 1 loop each)\n"
     ]
    },
    {
     "data": {
      "text/plain": [
       "<TimeitResult : 2.78 s ± 0 ns per loop (mean ± std. dev. of 1 run, 1 loop each)>"
      ]
     },
     "execution_count": 44,
     "metadata": {},
     "output_type": "execute_result"
    }
   ],
   "source": [
    "%%timeit -r 1 -n 1 -o\n",
    "found = Kmr().search(file_text, pattern)\n",
    "print(len(found), found)"
   ]
  },
  {
   "cell_type": "code",
   "execution_count": 45,
   "metadata": {},
   "outputs": [],
   "source": [
    "res = _\n",
    "kmr1_search_time = res.best"
   ]
  },
  {
   "cell_type": "code",
   "execution_count": 46,
   "metadata": {},
   "outputs": [
    {
     "name": "stdout",
     "output_type": "stream",
     "text": [
      "25 [4957, 5288, 5535, 10073, 11231, 12637, 13709, 14061, 14379, 15754, 38038, 38158, 41801, 44229, 57402, 59854, 60027, 68578, 68704, 70238, 70774, 77765, 77828, 78311, 78376]\n",
      "52.9 ms ± 0 ns per loop (mean ± std. dev. of 1 run, 1 loop each)\n"
     ]
    },
    {
     "data": {
      "text/plain": [
       "<TimeitResult : 52.9 ms ± 0 ns per loop (mean ± std. dev. of 1 run, 1 loop each)>"
      ]
     },
     "execution_count": 46,
     "metadata": {},
     "output_type": "execute_result"
    }
   ],
   "source": [
    "%%timeit -r 1 -n 1 -o\n",
    "found = kmp(file_text, pattern)\n",
    "print(len(found), found)"
   ]
  },
  {
   "cell_type": "code",
   "execution_count": 47,
   "metadata": {},
   "outputs": [],
   "source": [
    "res = _\n",
    "kmp1_search_time = res.best"
   ]
  },
  {
   "cell_type": "markdown",
   "metadata": {},
   "source": [
    "### Drugi plik testowy"
   ]
  },
  {
   "cell_type": "code",
   "execution_count": 48,
   "metadata": {},
   "outputs": [],
   "source": [
    "file_path = 'romeo-i-julia-700.txt'\n",
    "file_text = read_file(file_path)\n",
    "pattern = 'BENWOLIO'"
   ]
  },
  {
   "cell_type": "code",
   "execution_count": 49,
   "metadata": {},
   "outputs": [
    {
     "name": "stdout",
     "output_type": "stream",
     "text": [
      "24 [356, 4451, 4681, 6771, 7310, 8341, 8439, 8878, 9097, 9187, 9340, 9438, 9506, 9617, 10246, 10340, 10910, 11107, 11225, 11488, 11638, 12086, 12434, 12554]\n",
      "219 ms ± 0 ns per loop (mean ± std. dev. of 1 run, 1 loop each)\n"
     ]
    },
    {
     "data": {
      "text/plain": [
       "<TimeitResult : 219 ms ± 0 ns per loop (mean ± std. dev. of 1 run, 1 loop each)>"
      ]
     },
     "execution_count": 49,
     "metadata": {},
     "output_type": "execute_result"
    }
   ],
   "source": [
    "%%timeit -r 1 -n 1 -o\n",
    "found = Kmr().search(file_text, pattern)\n",
    "print(len(found), found)"
   ]
  },
  {
   "cell_type": "code",
   "execution_count": 50,
   "metadata": {},
   "outputs": [],
   "source": [
    "res = _\n",
    "kmr2_search_time = res.best"
   ]
  },
  {
   "cell_type": "code",
   "execution_count": 51,
   "metadata": {},
   "outputs": [
    {
     "name": "stdout",
     "output_type": "stream",
     "text": [
      "24 [363, 4458, 4688, 6778, 7317, 8348, 8446, 8885, 9104, 9194, 9347, 9445, 9513, 9624, 10253, 10347, 10917, 11114, 11232, 11495, 11645, 12093, 12441, 12561]\n",
      "6.02 ms ± 0 ns per loop (mean ± std. dev. of 1 run, 1 loop each)\n"
     ]
    },
    {
     "data": {
      "text/plain": [
       "<TimeitResult : 6.02 ms ± 0 ns per loop (mean ± std. dev. of 1 run, 1 loop each)>"
      ]
     },
     "execution_count": 51,
     "metadata": {},
     "output_type": "execute_result"
    }
   ],
   "source": [
    "%%timeit -r 1 -n 1 -o\n",
    "found = kmp(file_text, pattern)\n",
    "print(len(found), found)"
   ]
  },
  {
   "cell_type": "code",
   "execution_count": 52,
   "metadata": {},
   "outputs": [],
   "source": [
    "res = _\n",
    "kmp2_search_time = res.best"
   ]
  },
  {
   "cell_type": "markdown",
   "metadata": {},
   "source": [
    "### Trzeci plik testowy"
   ]
  },
  {
   "cell_type": "code",
   "execution_count": 53,
   "metadata": {},
   "outputs": [],
   "source": [
    "file_path = 'zad6'\n",
    "file_text = read_file(file_path)\n",
    "pattern = 'DBF'"
   ]
  },
  {
   "cell_type": "code",
   "execution_count": 54,
   "metadata": {},
   "outputs": [
    {
     "name": "stdout",
     "output_type": "stream",
     "text": [
      "5 [113, 245, 300, 401, 484]\n",
      "5.87 ms ± 0 ns per loop (mean ± std. dev. of 1 run, 1 loop each)\n"
     ]
    },
    {
     "data": {
      "text/plain": [
       "<TimeitResult : 5.87 ms ± 0 ns per loop (mean ± std. dev. of 1 run, 1 loop each)>"
      ]
     },
     "execution_count": 54,
     "metadata": {},
     "output_type": "execute_result"
    }
   ],
   "source": [
    "%%timeit -r 1 -n 1 -o\n",
    "found = Kmr().search(file_text, pattern)\n",
    "print(len(found), found)"
   ]
  },
  {
   "cell_type": "code",
   "execution_count": 55,
   "metadata": {},
   "outputs": [],
   "source": [
    "res = _\n",
    "kmr3_search_time = res.best"
   ]
  },
  {
   "cell_type": "code",
   "execution_count": 56,
   "metadata": {},
   "outputs": [
    {
     "name": "stdout",
     "output_type": "stream",
     "text": [
      "5 [115, 247, 302, 403, 486]\n",
      "391 µs ± 0 ns per loop (mean ± std. dev. of 1 run, 1 loop each)\n"
     ]
    },
    {
     "data": {
      "text/plain": [
       "<TimeitResult : 391 µs ± 0 ns per loop (mean ± std. dev. of 1 run, 1 loop each)>"
      ]
     },
     "execution_count": 56,
     "metadata": {},
     "output_type": "execute_result"
    }
   ],
   "source": [
    "%%timeit -r 1 -n 1 -o\n",
    "found = kmp(file_text, pattern)\n",
    "print(len(found), found)"
   ]
  },
  {
   "cell_type": "code",
   "execution_count": 57,
   "metadata": {},
   "outputs": [],
   "source": [
    "res = _\n",
    "kmp3_search_time = res.best"
   ]
  },
  {
   "cell_type": "markdown",
   "metadata": {},
   "source": [
    "### Podsumowanie porównania "
   ]
  },
  {
   "cell_type": "code",
   "execution_count": 58,
   "metadata": {},
   "outputs": [
    {
     "data": {
      "image/png": "[encoded data removed]",
      "text/plain": [
       "<Figure size 432x288 with 1 Axes>"
      ]
     },
     "metadata": {
      "needs_background": "light"
     },
     "output_type": "display_data"
    }
   ],
   "source": [
    "x = [kmp1_search_time, kmp2_search_time, kmp3_search_time]\n",
    "y = [kmr1_search_time, kmr2_search_time, kmr3_search_time]\n",
    "\n",
    "fig = plt.figure()\n",
    "ax = fig.add_subplot()\n",
    "ax.plot(x,y, marker='o')\n",
    "\n",
    "ax.set_xlabel('Czas wyszukiwania wzorca za pomocą kmp.')\n",
    "ax.set_ylabel('Czas wyszukiwania wzorca za pomocą kmr.')\n",
    "\n",
    "plt.show()"
   ]
  },
  {
   "cell_type": "markdown",
   "metadata": {},
   "source": [
    "Możemy stwierdzić, że otrzymana zależność nie jest liniowa."
   ]
  },
  {
   "cell_type": "markdown",
   "metadata": {},
   "source": [
    "## Czy kompletna przebudowa DBF jest konieczna do wyszukania kolejnego wzorca?"
   ]
  },
  {
   "cell_type": "markdown",
   "metadata": {},
   "source": [
    "Pokazaliśmy, że budowa słownika DBF jest czasochłonna. Dotychczas, chcąc wyszukać wzorzec w tekście, sklejaliśmy go z tekstem w sposób *pattern#text* i liczyliśmy dla tak otrzymanageo ciągu słownik DBF. Pokażemy, że wystąpienia wzorca w tekście są możliwe do znalezienia wyłącznie zapomocą słownika DBF zbudowanego dla tekstu."
   ]
  },
  {
   "cell_type": "markdown",
   "metadata": {},
   "source": [
    "W tym celu wykorzystam tablicę *Pos*, oraz wyszukiwanie binarne. Zauważmy, że tablica *Pos* jest uporządkowana leksykograficznie względem opisywanych przez nią składowych. Pozwala nam to na uzyskanie numeru danej składowej w czasie logarytmicznym. "
   ]
  },
  {
   "cell_type": "markdown",
   "metadata": {},
   "source": [
    "### Implementacja wyszukiwania"
   ]
  },
  {
   "cell_type": "code",
   "execution_count": 59,
   "metadata": {},
   "outputs": [],
   "source": [
    "class SmartKmr(Kmr):\n",
    "    def __init__(self, **kwargs):\n",
    "        super().__init__(**kwargs)\n",
    "\n",
    "    def binary_search(self, highest_pow, pattern):\n",
    "        entries = []\n",
    "        for k,v in self.entries[highest_pow].items():\n",
    "            if v+len(pattern) < len(text):\n",
    "                entries.append((k,v))\n",
    "            \n",
    "        p, q = 0, len(entries)\n",
    "        while p < q:\n",
    "            s = (p+q)//2\n",
    "            k,v = entries[s]\n",
    "            if self.text[v:v+len(pattern)] < pattern:\n",
    "                p = s+1\n",
    "            else:\n",
    "                q = s\n",
    "        return entries[p][0]\n",
    "                \n",
    "    def findPattern(self, text, pattern):\n",
    "        self.names = None\n",
    "        self.entries = None\n",
    "        self.text = None\n",
    "        self.kmr(text)\n",
    "        self.text = text\n",
    "        result = []\n",
    "        \n",
    "        highest_pow = 2 ** SmartKmr.get_max_factor(len(pattern))\n",
    "\n",
    "        offset = len(pattern)-highest_pow\n",
    "    \n",
    "        pattern_prefix = pattern[:highest_pow]\n",
    "        pattern_suffix = pattern[-highest_pow:]\n",
    "\n",
    "        prefix_name = self.binary_search(highest_pow, pattern_prefix)\n",
    "        suffix_name = self.binary_search(highest_pow, pattern_suffix)\n",
    "            \n",
    "        result = []\n",
    "        for i in range(len(self.names[highest_pow])-offset):\n",
    "            if self.names[highest_pow][i] == prefix_name and \\\n",
    "            self.names[highest_pow][i+offset] == suffix_name:\n",
    "                result.append(i)\n",
    "\n",
    "        return result"
   ]
  },
  {
   "cell_type": "markdown",
   "metadata": {},
   "source": [
    "### Pomiar czasu wykonania"
   ]
  },
  {
   "cell_type": "code",
   "execution_count": 60,
   "metadata": {},
   "outputs": [],
   "source": [
    "smart_kmr = SmartKmr()"
   ]
  },
  {
   "cell_type": "code",
   "execution_count": 61,
   "metadata": {},
   "outputs": [],
   "source": [
    "file_path = '1997_714.txt'\n",
    "file_text = read_file(file_path)\n",
    "pattern = 'zasada'"
   ]
  },
  {
   "cell_type": "code",
   "execution_count": 62,
   "metadata": {},
   "outputs": [
    {
     "name": "stdout",
     "output_type": "stream",
     "text": [
      "25 [4952, 5283, 5530, 10068, 11226, 12632, 13704, 14056, 14374, 15749, 38033, 38153, 41796, 44224, 57397, 59849, 60022, 68573, 68699, 70233, 70769, 77760, 77823, 78306, 78371]\n",
      "2.53 s ± 0 ns per loop (mean ± std. dev. of 1 run, 1 loop each)\n"
     ]
    },
    {
     "data": {
      "text/plain": [
       "<TimeitResult : 2.53 s ± 0 ns per loop (mean ± std. dev. of 1 run, 1 loop each)>"
      ]
     },
     "execution_count": 62,
     "metadata": {},
     "output_type": "execute_result"
    }
   ],
   "source": [
    "%%timeit -r 1 -n 1 -o\n",
    "found = Kmr().search(file_text, pattern)\n",
    "print(len(found), found)"
   ]
  },
  {
   "cell_type": "code",
   "execution_count": 63,
   "metadata": {},
   "outputs": [],
   "source": [
    "res = _\n",
    "Kmr1_search_time = res.best"
   ]
  },
  {
   "cell_type": "code",
   "execution_count": 64,
   "metadata": {},
   "outputs": [
    {
     "name": "stdout",
     "output_type": "stream",
     "text": [
      "25 [4952, 5283, 5530, 10068, 11226, 12632, 13704, 14056, 14374, 15749, 38033, 38153, 41796, 44224, 57397, 59849, 60022, 68573, 68699, 70233, 70769, 77760, 77823, 78306, 78371]\n",
      "2.56 s ± 0 ns per loop (mean ± std. dev. of 1 run, 1 loop each)\n"
     ]
    },
    {
     "data": {
      "text/plain": [
       "<TimeitResult : 2.56 s ± 0 ns per loop (mean ± std. dev. of 1 run, 1 loop each)>"
      ]
     },
     "execution_count": 64,
     "metadata": {},
     "output_type": "execute_result"
    }
   ],
   "source": [
    "%%timeit -r 1 -n 1 -o\n",
    "found = smart_kmr.search(file_text, pattern)\n",
    "print(len(found), found)"
   ]
  },
  {
   "cell_type": "code",
   "execution_count": 65,
   "metadata": {},
   "outputs": [],
   "source": [
    "res = _\n",
    "SmartKmr1_search_time = res.best"
   ]
  },
  {
   "cell_type": "code",
   "execution_count": 66,
   "metadata": {},
   "outputs": [],
   "source": [
    "pattern = 'artykuł'"
   ]
  },
  {
   "cell_type": "code",
   "execution_count": 67,
   "metadata": {},
   "outputs": [
    {
     "name": "stdout",
     "output_type": "stream",
     "text": [
      "15 [39210, 39436, 93366, 93426, 93561, 97285, 104141, 110186, 158607, 161581, 162788, 185631, 200530, 200628, 202696]\n",
      "2.61 s ± 0 ns per loop (mean ± std. dev. of 1 run, 1 loop each)\n"
     ]
    },
    {
     "data": {
      "text/plain": [
       "<TimeitResult : 2.61 s ± 0 ns per loop (mean ± std. dev. of 1 run, 1 loop each)>"
      ]
     },
     "execution_count": 67,
     "metadata": {},
     "output_type": "execute_result"
    }
   ],
   "source": [
    "%%timeit -r 1 -n 1 -o\n",
    "found = Kmr().search(file_text, pattern)\n",
    "print(len(found), found)"
   ]
  },
  {
   "cell_type": "code",
   "execution_count": 68,
   "metadata": {},
   "outputs": [],
   "source": [
    "res = _\n",
    "Kmr2_search_time = res.best"
   ]
  },
  {
   "cell_type": "code",
   "execution_count": 69,
   "metadata": {},
   "outputs": [
    {
     "name": "stdout",
     "output_type": "stream",
     "text": [
      "0 []\n",
      "89.2 ms ± 0 ns per loop (mean ± std. dev. of 1 run, 1 loop each)\n"
     ]
    },
    {
     "data": {
      "text/plain": [
       "<TimeitResult : 89.2 ms ± 0 ns per loop (mean ± std. dev. of 1 run, 1 loop each)>"
      ]
     },
     "execution_count": 69,
     "metadata": {},
     "output_type": "execute_result"
    }
   ],
   "source": [
    "%%timeit -r 1 -n 1 -o\n",
    "found = smart_kmr.search(file_text, pattern)\n",
    "print(len(found), found)"
   ]
  },
  {
   "cell_type": "code",
   "execution_count": 70,
   "metadata": {},
   "outputs": [],
   "source": [
    "res = _\n",
    "SmartKmr2_search_time = res.best"
   ]
  },
  {
   "cell_type": "code",
   "execution_count": 71,
   "metadata": {},
   "outputs": [],
   "source": [
    "pattern = 'Art.'"
   ]
  },
  {
   "cell_type": "code",
   "execution_count": 73,
   "metadata": {},
   "outputs": [
    {
     "name": "stdout",
     "output_type": "stream",
     "text": [
      "58 [669, 959, 1620, 2557, 5496, 5863, 10454, 11076, 14460, 16031, 16351, 23417, 26825, 27412, 28093, 30563, 31204, 31592, 32432, 33538, 36091, 37729, 38541, 41084, 42834, 48734, 50681, 53694, 55016, 56761, 57892, 59322, 60703, 61512, 62418, 63459, 66922, 67505, 68107, 68946, 70604, 71033, 71547, 72092, 73200, 74625, 75275, 75655, 76437, 77121, 77367, 78771, 79782, 84512, 85576, 86116, 88606, 89238]\n",
      "2.68 s ± 0 ns per loop (mean ± std. dev. of 1 run, 1 loop each)\n"
     ]
    },
    {
     "data": {
      "text/plain": [
       "<TimeitResult : 2.68 s ± 0 ns per loop (mean ± std. dev. of 1 run, 1 loop each)>"
      ]
     },
     "execution_count": 73,
     "metadata": {},
     "output_type": "execute_result"
    }
   ],
   "source": [
    "%%timeit -r 1 -n 1 -o\n",
    "found = Kmr().search(file_text, pattern)\n",
    "print(len(found), found)"
   ]
  },
  {
   "cell_type": "code",
   "execution_count": 74,
   "metadata": {},
   "outputs": [],
   "source": [
    "res = _\n",
    "Kmr3_search_time = res.best"
   ]
  },
  {
   "cell_type": "code",
   "execution_count": 75,
   "metadata": {},
   "outputs": [
    {
     "name": "stdout",
     "output_type": "stream",
     "text": [
      "31 [4954, 5285, 5532, 10070, 11228, 12634, 13706, 14058, 14376, 15751, 38035, 38155, 41798, 44226, 45256, 47282, 48346, 52148, 57399, 59851, 60024, 68575, 68701, 69121, 70235, 70771, 77762, 77825, 78308, 78373, 83312]\n",
      "85 ms ± 0 ns per loop (mean ± std. dev. of 1 run, 1 loop each)\n"
     ]
    },
    {
     "data": {
      "text/plain": [
       "<TimeitResult : 85 ms ± 0 ns per loop (mean ± std. dev. of 1 run, 1 loop each)>"
      ]
     },
     "execution_count": 75,
     "metadata": {},
     "output_type": "execute_result"
    }
   ],
   "source": [
    "%%timeit -r 1 -n 1 -o\n",
    "found = smart_kmr.search(file_text, pattern)\n",
    "print(len(found), found)"
   ]
  },
  {
   "cell_type": "code",
   "execution_count": 76,
   "metadata": {},
   "outputs": [],
   "source": [
    "res = _\n",
    "SmartKmr3_search_time = res.best"
   ]
  },
  {
   "cell_type": "markdown",
   "metadata": {},
   "source": [
    "### Podsumowanie"
   ]
  },
  {
   "cell_type": "code",
   "execution_count": 77,
   "metadata": {},
   "outputs": [
    {
     "data": {
      "image/png": "[encoded data removed]",
      "text/plain": [
       "<Figure size 432x288 with 1 Axes>"
      ]
     },
     "metadata": {
      "needs_background": "light"
     },
     "output_type": "display_data"
    }
   ],
   "source": [
    "labels = ['zasad', 'artykuł', 'Art.']\n",
    "kmr_times = [Kmr1_search_time, Kmr2_search_time, Kmr3_search_time]\n",
    "smartkmr_times = [SmartKmr1_search_time, SmartKmr2_search_time, SmartKmr3_search_time]\n",
    "\n",
    "x = np.arange(len(labels))\n",
    "width = 0.35\n",
    "\n",
    "fig, ax = plt.subplots()\n",
    "rects1 = ax.bar(x - width/2, kmr_times, width, label='Kmr')\n",
    "rects2 = ax.bar(x + width/2, smartkmr_times, width, label='SmartKmr')\n",
    "\n",
    "ax.set_ylabel('Czas wyszukiwania')\n",
    "ax.set_xticks(x)\n",
    "ax.set_xticklabels(labels)\n",
    "ax.legend()\n",
    "\n",
    "fig.tight_layout()\n",
    "plt.show()"
   ]
  }
 ],
 "metadata": {
  "kernelspec": {
   "display_name": "Python 3",
   "language": "python",
   "name": "python3"
  },
  "language_info": {
   "codemirror_mode": {
    "name": "ipython",
    "version": 3
   },
   "file_extension": ".py",
   "mimetype": "text/x-python",
   "name": "python",
   "nbconvert_exporter": "python",
   "pygments_lexer": "ipython3",
   "version": "3.7.6"
  }
 },
 "nbformat": 4,
 "nbformat_minor": 4
}
